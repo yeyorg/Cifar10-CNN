{
  "nbformat": 4,
  "nbformat_minor": 0,
  "metadata": {
    "colab": {
      "name": "Cifar-10_CNN",
      "provenance": [],
      "authorship_tag": "ABX9TyM52XfrD29B36vxbvYwD8/7",
      "include_colab_link": true
    },
    "kernelspec": {
      "name": "python3",
      "display_name": "Python 3"
    },
    "language_info": {
      "name": "python"
    },
    "accelerator": "GPU"
  },
  "cells": [
    {
      "cell_type": "markdown",
      "metadata": {
        "id": "view-in-github",
        "colab_type": "text"
      },
      "source": [
        "<a href=\"https://colab.research.google.com/github/yeyorg/Cifar10-CNN/blob/main/Cifar_10_CNN.ipynb\" target=\"_parent\"><img src=\"https://colab.research.google.com/assets/colab-badge.svg\" alt=\"Open In Colab\"/></a>"
      ]
    },
    {
      "cell_type": "markdown",
      "metadata": {
        "id": "Xgao4refPIRT"
      },
      "source": [
        "# Librerias"
      ]
    },
    {
      "cell_type": "code",
      "metadata": {
        "id": "amYGGZNC0bNp"
      },
      "source": [
        "import numpy as np\n",
        "import tensorflow as tf\n",
        "import pandas as pd\n",
        "import matplotlib.pyplot as plt\n",
        "from keras.utils import np_utils\n",
        "from tensorflow.keras.models import Sequential \n",
        "from tensorflow.keras.layers import Dense\n",
        "from tensorflow.keras.layers import Conv2D\n",
        "from tensorflow.keras.layers import Flatten\n",
        "from tensorflow.keras.layers import Dropout\n",
        "from tensorflow.keras.layers import MaxPooling2D\n",
        "from keras.utils.vis_utils import plot_model"
      ],
      "execution_count": 1,
      "outputs": []
    },
    {
      "cell_type": "markdown",
      "metadata": {
        "id": "QsOIRkNP1_6o"
      },
      "source": [
        "#Cargar Dataset"
      ]
    },
    {
      "cell_type": "code",
      "metadata": {
        "colab": {
          "base_uri": "https://localhost:8080/"
        },
        "id": "nWpMW8Y22EEW",
        "outputId": "fc5a68c6-d44f-4914-9463-463cf3b36dd0"
      },
      "source": [
        "# Importaremos el dataset con TensorFlow \n",
        "(x_train, y_train),(x_test, y_test) = tf.keras.datasets.cifar10.load_data()\n",
        "print(x_train.shape)\n",
        "print(y_train.shape)\n",
        "print(x_test.shape)\n",
        "print(y_test.shape)"
      ],
      "execution_count": 2,
      "outputs": [
        {
          "output_type": "stream",
          "name": "stdout",
          "text": [
            "(50000, 32, 32, 3)\n",
            "(50000, 1)\n",
            "(10000, 32, 32, 3)\n",
            "(10000, 1)\n"
          ]
        }
      ]
    },
    {
      "cell_type": "markdown",
      "metadata": {
        "id": "VYdpRZedO-Qe"
      },
      "source": [
        "# Visualización del dataset"
      ]
    },
    {
      "cell_type": "code",
      "metadata": {
        "colab": {
          "base_uri": "https://localhost:8080/",
          "height": 280
        },
        "id": "pfUvsq6c_Gk-",
        "outputId": "c13bae2a-422e-4754-c549-a4646af08a20"
      },
      "source": [
        "n=np.random.randint(50000) #Generamos un núnero entero aleatorio para plotear una imagen aleatoria\n",
        "\n",
        "label_dict={0:'airplane',1:'automobile',2:'bird',3:'cat',4:'deer',5:'dog',6:'frog',7:'horse',8:'ship',9:'truck'} \n",
        "#Generamos un dictionario que nos permitirá leer con facilidad las etiquetas\n",
        "\n",
        "#Empezamos el proceso para mostrar la imagen\n",
        "plt.figure()\n",
        "plt.imshow(x_train[n])\n",
        "plt.grid(False)\n",
        "label = int(y_train[n]) # Leemos la etiqueta (un número) de la imgen seleccionada\n",
        "plt.xlabel(str(label_dict[label]))  # Ponemos la etiqueta en el eje x haciendo uso del diccionario\n",
        "plt.show()  #Mostramos la imagen"
      ],
      "execution_count": 3,
      "outputs": [
        {
          "output_type": "display_data",
          "data": {
            "image/png": "[encoded data removed]",
            "text/plain": [
              "<Figure size 432x288 with 1 Axes>"
            ]
          },
          "metadata": {
            "needs_background": "light"
          }
        }
      ]
    },
    {
      "cell_type": "markdown",
      "metadata": {
        "id": "YQujGZ5qPVz1"
      },
      "source": [
        "# Tratamiento de datos"
      ]
    },
    {
      "cell_type": "markdown",
      "metadata": {
        "id": "AgFVaW3xPqz1"
      },
      "source": [
        "## Normalización"
      ]
    },
    {
      "cell_type": "code",
      "metadata": {
        "id": "E71Lz8WrPl42"
      },
      "source": [
        "# Como el formato de imagen es Unit8 sabemos que el valor \n",
        "# de cada pixel va desde 0 a 255 por lo que la noramlización \n",
        "# resulta de dividir los valores de cada pixel entre 255\n",
        "\n",
        "def normalizar():\n",
        "  x_train_n = x_train.reshape((50000,32,32,3))\n",
        "  x_train_n = x_train.astype('float32')/255\n",
        "  x_test_n = x_test.reshape((10000,32,32,3))\n",
        "  x_test_n = x_test.astype('float32')/255\n",
        "  print(\"Los datos han sido normalizados\")\n",
        "  return x_train_n, x_test_n"
      ],
      "execution_count": 4,
      "outputs": []
    },
    {
      "cell_type": "markdown",
      "metadata": {
        "id": "w_9cAuyhcwGP"
      },
      "source": [
        "## Visualizaci[on de datos normalizados"
      ]
    },
    {
      "cell_type": "code",
      "metadata": {
        "colab": {
          "base_uri": "https://localhost:8080/",
          "height": 297
        },
        "id": "TZgwtA3Bby7g",
        "outputId": "f03ad728-7b80-4e76-ed55-b96f8322ccf1"
      },
      "source": [
        "(x_train_n, x_test_n) = normalizar()\n",
        "n=np.random.randint(50000)\n",
        "plt.figure()\n",
        "plt.imshow(x_train_n[n])\n",
        "plt.grid(False)\n",
        "label = int(y_train[n])\n",
        "plt.xlabel(str(label_dict[label]))\n",
        "plt.show()"
      ],
      "execution_count": 5,
      "outputs": [
        {
          "output_type": "stream",
          "name": "stdout",
          "text": [
            "Los datos han sido normalizados\n"
          ]
        },
        {
          "output_type": "display_data",
          "data": {
            "image/png": "[encoded data removed]",
            "text/plain": [
              "<Figure size 432x288 with 1 Axes>"
            ]
          },
          "metadata": {
            "needs_background": "light"
          }
        }
      ]
    },
    {
      "cell_type": "markdown",
      "metadata": {
        "id": "fV5Eck08S56v"
      },
      "source": [
        "## One hot Encoding"
      ]
    },
    {
      "cell_type": "code",
      "metadata": {
        "colab": {
          "base_uri": "https://localhost:8080/"
        },
        "id": "fx0W4e1US9CW",
        "outputId": "d74840d4-88f9-4f51-c859-abffce1198e9"
      },
      "source": [
        "y_train_one = np_utils.to_categorical(y_train, 10)\n",
        "print(y_train.shape)\n",
        "y_test_one = np_utils.to_categorical(y_test, 10)\n",
        "print(y_test.shape)"
      ],
      "execution_count": 6,
      "outputs": [
        {
          "output_type": "stream",
          "name": "stdout",
          "text": [
            "(50000, 1)\n",
            "(10000, 1)\n"
          ]
        }
      ]
    },
    {
      "cell_type": "markdown",
      "metadata": {
        "id": "i7LvH8fIqLc3"
      },
      "source": [
        "# Modelo CNN"
      ]
    },
    {
      "cell_type": "code",
      "metadata": {
        "id": "81MGmCGRr-8t"
      },
      "source": [
        "def modelo():\n",
        "  # create model\n",
        "  input_shape = (32, 32,3) #x_train.shape\n",
        "\n",
        "  model=Sequential()\n",
        " # Capa convolucional 1\n",
        "  model.add(Conv2D(filters=32,kernel_size=(3,3),input_shape=input_shape, activation='relu',padding='same'))\n",
        "\n",
        " # MaxPool, reduce la imagen de 32x32 a la imagen de 16x16\n",
        "  model.add(MaxPooling2D(pool_size=(2,2)))\n",
        "\n",
        " # Capa convolucional 2\n",
        "  model.add(Conv2D(filters=64,kernel_size=(3,3),activation='relu',padding='same'))\n",
        "\n",
        " # Unirse a Dropout para evitar el overfiting\n",
        "  model.add(Dropout(0.25))\n",
        "\n",
        " # MaxPool\n",
        "  model.add(MaxPooling2D(pool_size=(2,2)))\n",
        "\n",
        " #Construye una red profunda\n",
        "         #Construye una capa plana\n",
        "  model.add(Flatten())\n",
        "  model.add(Dropout(0.25))\n",
        "         # Construir capa oculta\n",
        "  model.add(Dense(1024,activation='relu'))\n",
        "  model.add(Dropout(0.25))    \n",
        "         # Construir capa de salida\n",
        "  model.add(Dense(10,activation='softmax'))\n",
        "  model.summary()\n",
        "  plot_model(model, to_file='model_plot.png', show_shapes=True, show_layer_names=True)\n",
        "  # Compile model\n",
        "  model.compile(loss='categorical_crossentropy', optimizer='adam', metrics=['accuracy'])\n",
        "  return model"
      ],
      "execution_count": 7,
      "outputs": []
    },
    {
      "cell_type": "code",
      "metadata": {
        "colab": {
          "base_uri": "https://localhost:8080/"
        },
        "id": "ekeytTC9uDpU",
        "outputId": "eaaa9368-bb2e-42e1-9ca6-a9efdd30fb5f"
      },
      "source": [
        "model = 0\n",
        "model = modelo()"
      ],
      "execution_count": 8,
      "outputs": [
        {
          "output_type": "stream",
          "name": "stdout",
          "text": [
            "Model: \"sequential\"\n",
            "_________________________________________________________________\n",
            "Layer (type)                 Output Shape              Param #   \n",
            "=================================================================\n",
            "conv2d (Conv2D)              (None, 32, 32, 32)        896       \n",
            "_________________________________________________________________\n",
            "max_pooling2d (MaxPooling2D) (None, 16, 16, 32)        0         \n",
            "_________________________________________________________________\n",
            "conv2d_1 (Conv2D)            (None, 16, 16, 64)        18496     \n",
            "_________________________________________________________________\n",
            "dropout (Dropout)            (None, 16, 16, 64)        0         \n",
            "_________________________________________________________________\n",
            "max_pooling2d_1 (MaxPooling2 (None, 8, 8, 64)          0         \n",
            "_________________________________________________________________\n",
            "flatten (Flatten)            (None, 4096)              0         \n",
            "_________________________________________________________________\n",
            "dropout_1 (Dropout)          (None, 4096)              0         \n",
            "_________________________________________________________________\n",
            "dense (Dense)                (None, 1024)              4195328   \n",
            "_________________________________________________________________\n",
            "dropout_2 (Dropout)          (None, 1024)              0         \n",
            "_________________________________________________________________\n",
            "dense_1 (Dense)              (None, 10)                10250     \n",
            "=================================================================\n",
            "Total params: 4,224,970\n",
            "Trainable params: 4,224,970\n",
            "Non-trainable params: 0\n",
            "_________________________________________________________________\n"
          ]
        }
      ]
    },
    {
      "cell_type": "code",
      "metadata": {
        "colab": {
          "base_uri": "https://localhost:8080/"
        },
        "id": "5bvoC7GevMZQ",
        "outputId": "debbdd24-71d2-44d5-de0c-d349197bb700"
      },
      "source": [
        "history = model.fit(x_train_n, y_train_one, validation_data=(x_test_n, y_test_one), epochs=20, batch_size=100, verbose=1, shuffle=True)"
      ],
      "execution_count": 9,
      "outputs": [
        {
          "output_type": "stream",
          "name": "stdout",
          "text": [
            "Epoch 1/20\n",
            "500/500 [==============================] - 39s 16ms/step - loss: 1.4649 - accuracy: 0.4722 - val_loss: 1.1939 - val_accuracy: 0.5832\n",
            "Epoch 2/20\n",
            "500/500 [==============================] - 7s 15ms/step - loss: 1.1094 - accuracy: 0.6071 - val_loss: 1.0182 - val_accuracy: 0.6508\n",
            "Epoch 3/20\n",
            "500/500 [==============================] - 7s 14ms/step - loss: 0.9631 - accuracy: 0.6634 - val_loss: 0.9492 - val_accuracy: 0.6771\n",
            "Epoch 4/20\n",
            "500/500 [==============================] - 7s 14ms/step - loss: 0.8515 - accuracy: 0.7025 - val_loss: 0.8784 - val_accuracy: 0.7012\n",
            "Epoch 5/20\n",
            "500/500 [==============================] - 7s 14ms/step - loss: 0.7550 - accuracy: 0.7354 - val_loss: 0.8305 - val_accuracy: 0.7093\n",
            "Epoch 6/20\n",
            "500/500 [==============================] - 7s 15ms/step - loss: 0.6746 - accuracy: 0.7646 - val_loss: 0.8001 - val_accuracy: 0.7202\n",
            "Epoch 7/20\n",
            "500/500 [==============================] - 7s 14ms/step - loss: 0.5982 - accuracy: 0.7896 - val_loss: 0.7699 - val_accuracy: 0.7301\n",
            "Epoch 8/20\n",
            "500/500 [==============================] - 7s 14ms/step - loss: 0.5280 - accuracy: 0.8141 - val_loss: 0.7545 - val_accuracy: 0.7375\n",
            "Epoch 9/20\n",
            "500/500 [==============================] - 7s 14ms/step - loss: 0.4656 - accuracy: 0.8364 - val_loss: 0.7483 - val_accuracy: 0.7462\n",
            "Epoch 10/20\n",
            "500/500 [==============================] - 7s 15ms/step - loss: 0.4092 - accuracy: 0.8566 - val_loss: 0.7547 - val_accuracy: 0.7399\n",
            "Epoch 11/20\n",
            "500/500 [==============================] - 7s 15ms/step - loss: 0.3524 - accuracy: 0.8779 - val_loss: 0.7801 - val_accuracy: 0.7376\n",
            "Epoch 12/20\n",
            "500/500 [==============================] - 7s 15ms/step - loss: 0.3102 - accuracy: 0.8919 - val_loss: 0.7779 - val_accuracy: 0.7405\n",
            "Epoch 13/20\n",
            "500/500 [==============================] - 7s 14ms/step - loss: 0.2837 - accuracy: 0.9013 - val_loss: 0.7979 - val_accuracy: 0.7332\n",
            "Epoch 14/20\n",
            "500/500 [==============================] - 7s 15ms/step - loss: 0.2558 - accuracy: 0.9109 - val_loss: 0.7958 - val_accuracy: 0.7428\n",
            "Epoch 15/20\n",
            "500/500 [==============================] - 7s 14ms/step - loss: 0.2368 - accuracy: 0.9184 - val_loss: 0.8085 - val_accuracy: 0.7485\n",
            "Epoch 16/20\n",
            "500/500 [==============================] - 7s 14ms/step - loss: 0.2126 - accuracy: 0.9255 - val_loss: 0.8012 - val_accuracy: 0.7531\n",
            "Epoch 17/20\n",
            "500/500 [==============================] - 7s 14ms/step - loss: 0.1967 - accuracy: 0.9315 - val_loss: 0.8509 - val_accuracy: 0.7426\n",
            "Epoch 18/20\n",
            "500/500 [==============================] - 7s 14ms/step - loss: 0.1862 - accuracy: 0.9347 - val_loss: 0.8372 - val_accuracy: 0.7455\n",
            "Epoch 19/20\n",
            "500/500 [==============================] - 7s 14ms/step - loss: 0.1745 - accuracy: 0.9391 - val_loss: 0.8592 - val_accuracy: 0.7479\n",
            "Epoch 20/20\n",
            "500/500 [==============================] - 7s 15ms/step - loss: 0.1694 - accuracy: 0.9419 - val_loss: 0.8712 - val_accuracy: 0.7481\n"
          ]
        }
      ]
    },
    {
      "cell_type": "markdown",
      "metadata": {
        "id": "e7-w_BQyffGp"
      },
      "source": [
        "# Resultados del entrenamiento"
      ]
    },
    {
      "cell_type": "code",
      "metadata": {
        "colab": {
          "base_uri": "https://localhost:8080/",
          "height": 573
        },
        "id": "i-EYHQ9P9e0H",
        "outputId": "6d01eb05-7448-48f8-bca1-0d6889aec4ac"
      },
      "source": [
        "plt.plot(history.history['accuracy'], label='accuracy')\n",
        "plt.plot(history.history['val_accuracy'], label = 'val_accuracy')\n",
        "plt.title('Model accuracy')\n",
        "plt.xlabel('Epoch')\n",
        "plt.ylabel('Accuracy')\n",
        "plt.ylim([0.5, 1])\n",
        "plt.legend(loc='lower right')\n",
        "plt.show()\n",
        "\n",
        "# Plot training & validation loss values\n",
        "plt.plot(history.history['loss'])\n",
        "plt.plot(history.history['val_loss'])\n",
        "plt.title('Model loss')\n",
        "plt.ylabel('Loss')\n",
        "plt.xlabel('Epoch')\n",
        "plt.legend(['Train', 'Test'], loc='best')\n",
        "plt.show()"
      ],
      "execution_count": 10,
      "outputs": [
        {
          "output_type": "display_data",
          "data": {
            "image/png": "[encoded data removed]",
            "text/plain": [
              "<Figure size 432x288 with 1 Axes>"
            ]
          },
          "metadata": {
            "needs_background": "light"
          }
        },
        {
          "output_type": "display_data",
          "data": {
            "image/png": "[encoded data removed]",
            "text/plain": [
              "<Figure size 432x288 with 1 Axes>"
            ]
          },
          "metadata": {
            "needs_background": "light"
          }
        }
      ]
    },
    {
      "cell_type": "code",
      "metadata": {
        "colab": {
          "base_uri": "https://localhost:8080/"
        },
        "id": "ZhTnvFmpWVgM",
        "outputId": "4b33faef-2f12-4794-9e8a-57f32cdeac02"
      },
      "source": [
        "Score = model.evaluate(x_test_n, y_test_one, verbose=0)[1]\n",
        "\n",
        "print(np.round(Score,decimals=4))\n",
        "\n",
        "outputTrain=model.predict(x_test)"
      ],
      "execution_count": 12,
      "outputs": [
        {
          "output_type": "stream",
          "name": "stdout",
          "text": [
            "0.7481\n"
          ]
        }
      ]
    },
    {
      "cell_type": "code",
      "metadata": {
        "colab": {
          "base_uri": "https://localhost:8080/",
          "height": 297
        },
        "id": "sM9k_Z_1aaUf",
        "outputId": "b2c7414a-3cdd-48ad-9203-ccbaef0db31f"
      },
      "source": [
        "n=np.random.randint(10000)\n",
        "img = x_test_n[n]\n",
        "img = (np.expand_dims(img,0))\n",
        "predictions_single = model.predict(img)\n",
        "np.argmax(predictions_single[0])\n",
        "\n",
        "plt.figure()\n",
        "plt.imshow(x_test_n[n])\n",
        "plt.grid(False)\n",
        "label = int(np.argmax(predictions_single[0]))\n",
        "plt.xlabel(\"Clase predicha: \"+str(label_dict[label]))\n",
        "plt.show()\n",
        "\n",
        "prediction = int(np.argmax(predictions_single[0]))\n",
        "original = int(y_test[n])\n",
        "\n",
        "if prediction == original:\n",
        "  print(\"La prediccion es correcta\")\n",
        "\n",
        "else:\n",
        "  print(\"La prediccion es incorrecta\")\n",
        "  print(\"clase predicha: \" + label_dict[int(np.argmax(predictions_single[0]))])\n",
        "  print(\"clase original: \" + label_dict[int((y_test[n]))])"
      ],
      "execution_count": 53,
      "outputs": [
        {
          "output_type": "display_data",
          "data": {
            "image/png": "[encoded data removed]",
            "text/plain": [
              "<Figure size 432x288 with 1 Axes>"
            ]
          },
          "metadata": {
            "needs_background": "light"
          }
        },
        {
          "output_type": "stream",
          "name": "stdout",
          "text": [
            "La prediccion es correcta\n"
          ]
        }
      ]
    }
  ]
}